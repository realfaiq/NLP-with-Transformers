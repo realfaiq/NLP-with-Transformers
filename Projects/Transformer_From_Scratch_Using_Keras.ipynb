{
  "nbformat": 4,
  "nbformat_minor": 0,
  "metadata": {
    "colab": {
      "provenance": []
    },
    "kernelspec": {
      "name": "python3",
      "display_name": "Python 3"
    },
    "language_info": {
      "name": "python"
    }
  },
  "cells": [
    {
      "cell_type": "markdown",
      "source": [
        "## Necessary Imports"
      ],
      "metadata": {
        "id": "-mnzkfpLk44r"
      }
    },
    {
      "cell_type": "code",
      "execution_count": 37,
      "metadata": {
        "id": "7NdareWMc5OX"
      },
      "outputs": [],
      "source": [
        "import math\n",
        "import tensorflow as tf"
      ]
    },
    {
      "cell_type": "markdown",
      "source": [
        "## Tokenizing"
      ],
      "metadata": {
        "id": "ymnQfqMMk81T"
      }
    },
    {
      "cell_type": "code",
      "source": [
        "def tokenizer(corpus):\n",
        "  corpus = ' '.join(corpus).lower()\n",
        "  token_arr = corpus.split()\n",
        "  token_set = set(token_arr)\n",
        "  token_dict = {}\n",
        "  for index, i in enumerate(token_set):\n",
        "    token_dict[i] = index\n",
        "\n",
        "  return token_dict\n",
        "\n",
        "def tokenize(vocab, text):\n",
        "  words = text.lower().split()\n",
        "  tokens = []\n",
        "  for word in words:\n",
        "    tokens.append(vocab[word])\n",
        "  return tokens"
      ],
      "metadata": {
        "id": "IDWjvlPldCcr"
      },
      "execution_count": 38,
      "outputs": []
    },
    {
      "cell_type": "markdown",
      "source": [
        "## Self Attention"
      ],
      "metadata": {
        "id": "9_z7lrNGlGcs"
      }
    },
    {
      "cell_type": "code",
      "source": [
        "def scaled_dot_product(q, k, v, mask=None):\n",
        "    scores = tf.matmul(q, k, transpose_a=False, transpose_b=True) / math.sqrt(tf.cast(tf.shape(q)[-1], tf.float32))\n",
        "    if mask is not None:\n",
        "        scores = tf.where(mask == 0, tf.fill(tf.shape(scores), float(\"-inf\")), scores)\n",
        "    scores = tf.nn.softmax(scores, axis=-1)\n",
        "    weights = tf.matmul(scores, v)\n",
        "    return weights\n",
        "\n",
        "class SelfAttention(tf.keras.layers.Layer):\n",
        "    def __init__(self, config):\n",
        "        super(SelfAttention, self).__init__()\n",
        "        self.q = tf.keras.layers.Dense(units=config.head_dim)\n",
        "        self.k = tf.keras.layers.Dense(units=config.head_dim)\n",
        "        self.v = tf.keras.layers.Dense(units=config.head_dim)\n",
        "\n",
        "    def call(self, x, mask=None):\n",
        "        query = self.q(x)\n",
        "        key = self.k(x)\n",
        "        value = self.v(x)\n",
        "        self_atten = scaled_dot_product(query, key, value, mask)\n",
        "        return self_atten"
      ],
      "metadata": {
        "id": "deiC6S-gdIGR"
      },
      "execution_count": 39,
      "outputs": []
    },
    {
      "cell_type": "markdown",
      "source": [
        "## Multi Headed Attention"
      ],
      "metadata": {
        "id": "adtXobNRlJN0"
      }
    },
    {
      "cell_type": "code",
      "source": [
        "class MultiHeadAttention(tf.keras.layers.Layer):\n",
        "    def __init__(self, config):\n",
        "        super(MultiHeadAttention, self).__init__()\n",
        "        self.heads = config.emb_dim // config.head_dim\n",
        "        self.attention_heads = [SelfAttention(config) for _ in range(self.heads)]\n",
        "        self.concat_output = tf.keras.layers.Concatenate(axis=-1)\n",
        "        self.output_linear = tf.keras.layers.Dense(units=config.emb_dim)\n",
        "\n",
        "    def call(self, inputs, mask=None):\n",
        "        attention_outputs = [head(inputs, mask) for head in self.attention_heads]\n",
        "        concatenated_attention = self.concat_output(attention_outputs)\n",
        "        output = self.output_linear(concatenated_attention)\n",
        "        return output"
      ],
      "metadata": {
        "id": "0NSMX4OVghOU"
      },
      "execution_count": 40,
      "outputs": []
    },
    {
      "cell_type": "markdown",
      "source": [
        "## Feed Forward Layer"
      ],
      "metadata": {
        "id": "JXhBRUsElZbn"
      }
    },
    {
      "cell_type": "code",
      "source": [
        "class FeedForward(tf.keras.layers.Layer):\n",
        "    def __init__(self, config):\n",
        "        super(FeedForward, self).__init__()\n",
        "        self.feed_forward1 = tf.keras.layers.Dense(4 * config.emb_dim, activation=\"linear\")\n",
        "        self.feed_forward2 = tf.keras.layers.Dense(config.emb_dim, activation=\"linear\")\n",
        "        self.gelu = tf.keras.layers.Activation(\"gelu\")\n",
        "        self.dropout = tf.keras.layers.Dropout(0.3)\n",
        "\n",
        "    def call(self, x):\n",
        "        x = self.feed_forward1(x)\n",
        "        x = self.gelu(x)\n",
        "        x = self.feed_forward2(x)\n",
        "        x = self.dropout(x)\n",
        "        return x"
      ],
      "metadata": {
        "id": "1EBWG3PdgwMC"
      },
      "execution_count": 41,
      "outputs": []
    },
    {
      "cell_type": "markdown",
      "source": [
        "## Transformer Encoder Layer"
      ],
      "metadata": {
        "id": "Q5MGy-E1lclX"
      }
    },
    {
      "cell_type": "code",
      "source": [
        "class TransformerEncoderLayer(tf.keras.layers.Layer):\n",
        "    def __init__(self, config):\n",
        "        super(TransformerEncoderLayer, self).__init__()\n",
        "        self.layer_norm1 = tf.keras.layers.LayerNormalization(epsilon=1e-6)\n",
        "        self.layer_norm2 = tf.keras.layers.LayerNormalization(epsilon=1e-6)\n",
        "        self.attention = MultiHeadAttention(config)\n",
        "        self.feed_forward = FeedForward(config)\n",
        "\n",
        "    def call(self, inputs, mask=None):\n",
        "        x = self.layer_norm1(inputs)\n",
        "        attention_output = x + self.attention(x, mask)\n",
        "        attention_output = self.layer_norm2(attention_output)\n",
        "        output = attention_output + self.feed_forward(attention_output)\n",
        "        return output"
      ],
      "metadata": {
        "id": "gI5PTU81hvR2"
      },
      "execution_count": 42,
      "outputs": []
    },
    {
      "cell_type": "markdown",
      "source": [
        "## Embeddings"
      ],
      "metadata": {
        "id": "8kYLj-SxlfKf"
      }
    },
    {
      "cell_type": "code",
      "source": [
        "class Embeddings(tf.keras.layers.Layer):\n",
        "    def __init__(self, vocab_size, config):\n",
        "        super(Embeddings, self).__init__()\n",
        "        self.token_embeddings = tf.keras.layers.Embedding(vocab_size, config.emb_dim)\n",
        "        self.positional_embeddings = tf.keras.layers.Embedding(config.emb_dim, config.emb_dim)\n",
        "        self.layer_norm = tf.keras.layers.LayerNormalization(epsilon=1e-6)\n",
        "        self.dropout = tf.keras.layers.Dropout(0.3)\n",
        "\n",
        "    def call(self, x):\n",
        "        seq_len = tf.shape(x)[1]\n",
        "        positions = tf.range(start=0, limit=seq_len, delta=1)\n",
        "        position_embeddings = self.positional_embeddings(positions)\n",
        "        token_embeddings = self.token_embeddings(x)\n",
        "        embeddings = token_embeddings + position_embeddings\n",
        "        embeddings = self.layer_norm(embeddings)\n",
        "        embeddings = self.dropout(embeddings)\n",
        "        return embeddings"
      ],
      "metadata": {
        "id": "4yIggXjfh-YB"
      },
      "execution_count": 43,
      "outputs": []
    },
    {
      "cell_type": "markdown",
      "source": [
        "## Encoder"
      ],
      "metadata": {
        "id": "VbjcKxJLlhRg"
      }
    },
    {
      "cell_type": "code",
      "source": [
        "class TransformerEncoder(tf.keras.layers.Layer):\n",
        "    def __init__(self, vocab_size, config):\n",
        "        super(TransformerEncoder, self).__init__()\n",
        "        self.embeddings = Embeddings(vocab_size, config)\n",
        "        self.encoder_layers = [TransformerEncoderLayer(config) for _ in range(config.no_of_encoders)]\n",
        "\n",
        "    def call(self, x, mask=None):\n",
        "        seq_len = tf.shape(x)[1]\n",
        "        embeddings = self.embeddings(x)\n",
        "        for encoder_layer in self.encoder_layers:\n",
        "            embeddings = encoder_layer(embeddings, mask)\n",
        "        return embeddings"
      ],
      "metadata": {
        "id": "rlnieVBCiS5J"
      },
      "execution_count": 44,
      "outputs": []
    },
    {
      "cell_type": "markdown",
      "source": [
        "## Driver Code"
      ],
      "metadata": {
        "id": "ipkAb50yllVt"
      }
    },
    {
      "cell_type": "code",
      "source": [
        "class Config:\n",
        "  def __init__(self):\n",
        "    self.emb_dim = 32\n",
        "    self.head_dim = 8\n",
        "    self.no_of_encoders = 2\n",
        "\n",
        "config = Config()"
      ],
      "metadata": {
        "id": "mmgLm86ijIuU"
      },
      "execution_count": 45,
      "outputs": []
    },
    {
      "cell_type": "code",
      "source": [
        "corpus = [\n",
        "    'Time flies like an arrow',\n",
        "    'fruit flies like a banana',\n",
        "    'my name is faizan'\n",
        "]\n",
        "\n",
        "vocab = tokenizer(corpus)\n",
        "tokens = tokenize(vocab, corpus[1])\n",
        "\n",
        "encoder = TransformerEncoder(len(vocab), config)\n",
        "tokens_tensor = tf.constant([tokens])\n",
        "encoder(tokens_tensor, len(tokens)).shape"
      ],
      "metadata": {
        "colab": {
          "base_uri": "https://localhost:8080/"
        },
        "id": "R6P3D_zAjfWx",
        "outputId": "912b7a35-13ea-4cdb-d58c-b017d0fa415c"
      },
      "execution_count": 46,
      "outputs": [
        {
          "output_type": "execute_result",
          "data": {
            "text/plain": [
              "TensorShape([1, 5, 32])"
            ]
          },
          "metadata": {},
          "execution_count": 46
        }
      ]
    },
    {
      "cell_type": "code",
      "source": [],
      "metadata": {
        "id": "vMWMRrMbjhQp"
      },
      "execution_count": 46,
      "outputs": []
    }
  ]
}