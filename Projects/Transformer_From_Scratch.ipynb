{
  "nbformat": 4,
  "nbformat_minor": 0,
  "metadata": {
    "colab": {
      "provenance": []
    },
    "kernelspec": {
      "name": "python3",
      "display_name": "Python 3"
    },
    "language_info": {
      "name": "python"
    }
  },
  "cells": [
    {
      "cell_type": "code",
      "source": [
        "import torch\n",
        "import torch.nn.functional as F\n",
        "from torch import nn\n",
        "import math"
      ],
      "metadata": {
        "id": "aAnNeFOJnTMe"
      },
      "execution_count": 56,
      "outputs": []
    },
    {
      "cell_type": "code",
      "source": [
        "def tokenizer(corpus):\n",
        "  corpus = ' '.join(corpus).lower()\n",
        "  token_arr = corpus.split()\n",
        "  token_set = set(token_arr)\n",
        "  token_dict = {}\n",
        "  for index, i in enumerate(token_set):\n",
        "    token_dict[i] = index\n",
        "\n",
        "  return token_dict\n",
        "\n",
        "def tokenize(vocab, text):\n",
        "  words = text.lower().split()\n",
        "  tokens = []\n",
        "  for word in words:\n",
        "    tokens.append(vocab[word])\n",
        "  return tokens"
      ],
      "metadata": {
        "id": "aEmP9yEeiIli"
      },
      "execution_count": 57,
      "outputs": []
    },
    {
      "cell_type": "markdown",
      "source": [
        "### Self Attention"
      ],
      "metadata": {
        "id": "zBi-ChMmsN5T"
      }
    },
    {
      "cell_type": "code",
      "source": [
        "def scaled_dot_product(q, k, v, mask = None):\n",
        "  scores = torch.bmm(q,k.transpose(1,2)) / math.sqrt(q.size(-1))\n",
        "  if mask is not None:\n",
        "    scores = scores.masked_fill(mask == 0, float(\"-inf\"))\n",
        "  scores = F.softmax(scores, dim = -1) # 5x5\n",
        "  weights = torch.bmm(scores, v) # sm = 5 x 5, v = 5 x 10\n",
        "  return weights\n",
        "\n",
        "class Self_Attention(nn.Module):\n",
        "  def __init__(self, config):\n",
        "    super().__init__()\n",
        "    self.q = nn.Linear(config.emb_dim, config.head_dim)\n",
        "    self.k = nn.Linear(config.emb_dim, config.head_dim)\n",
        "    self.v = nn.Linear(config.emb_dim, config.head_dim)\n",
        "\n",
        "  def forward(self,x):\n",
        "    query = self.q(x)\n",
        "    key = self.k(x)\n",
        "    value = self.v(x)\n",
        "    self_atten = scaled_dot_product(query, key, value)\n",
        "    return self_atten"
      ],
      "metadata": {
        "id": "ksEOw041uCQA"
      },
      "execution_count": 58,
      "outputs": []
    },
    {
      "cell_type": "markdown",
      "source": [
        "### Multi Headed Attention"
      ],
      "metadata": {
        "id": "5Zs0eaDDzJp_"
      }
    },
    {
      "cell_type": "code",
      "source": [
        "class Multi_Headed_Attention(nn.Module):\n",
        "  def __init__(self, config):\n",
        "    super().__init__()\n",
        "    self.module_list = nn.ModuleList([Self_Attention(config) for _ in range(config.emb_dim // config.head_dim)])\n",
        "    self.output = nn.Linear(config.emb_dim, config.emb_dim)\n",
        "\n",
        "\n",
        "  def forward(self, hidden_state):\n",
        "    x = torch.cat([h(hidden_state) for h in self.module_list], dim = -1)\n",
        "    x = self.output(x)\n",
        "    return x"
      ],
      "metadata": {
        "id": "NIomJFPlz_jW"
      },
      "execution_count": 59,
      "outputs": []
    },
    {
      "cell_type": "markdown",
      "source": [
        "## Feed Forward Layer"
      ],
      "metadata": {
        "id": "xTyJQDFJ2qV5"
      }
    },
    {
      "cell_type": "code",
      "source": [
        "class Feed_Forward(nn.Module):\n",
        "  def __init__(self, config):\n",
        "    super().__init__()\n",
        "    self.feed_forward1 = nn.Linear(config.emb_dim, 4 * config.emb_dim)\n",
        "    self.feed_forward2 = nn.Linear(4 * config.emb_dim, config.emb_dim)\n",
        "    self.gelu = nn.GELU()\n",
        "    self.drop_out = nn.Dropout(0.30)\n",
        "\n",
        "  def forward(self, x):\n",
        "    x = self.feed_forward1(x)\n",
        "    x = self.gelu(x)\n",
        "    x = self.feed_forward2(x)\n",
        "    x = self.drop_out(x)\n",
        "    return x"
      ],
      "metadata": {
        "id": "VkBIROFdHlAp"
      },
      "execution_count": 60,
      "outputs": []
    },
    {
      "cell_type": "markdown",
      "source": [
        "## Normalization"
      ],
      "metadata": {
        "id": "eflivdTlJN6D"
      }
    },
    {
      "cell_type": "code",
      "source": [
        "class Transformer_Encoder_Layer(nn.Module):\n",
        "  def __init__(self, config):\n",
        "    super().__init__()\n",
        "    self.layer_norm1 = nn.LayerNorm(config.emb_dim)\n",
        "    self.layer_norm2 = nn.LayerNorm(config.emb_dim)\n",
        "    self.attention = Multi_Headed_Attention(config)\n",
        "    self.feed_forward = Feed_Forward(config)\n",
        "\n",
        "  def forward(self, x):\n",
        "    x = self.layer_norm1(x)\n",
        "    x = x + self.attention(x)\n",
        "    x = x + self.feed_forward(self.layer_norm2(x))\n",
        "    return x"
      ],
      "metadata": {
        "id": "i1ONRlUXJWr0"
      },
      "execution_count": 61,
      "outputs": []
    },
    {
      "cell_type": "markdown",
      "source": [
        "## Positional Embeddings"
      ],
      "metadata": {
        "id": "4PTPrp6mK_6i"
      }
    },
    {
      "cell_type": "code",
      "source": [
        "class Embeddings(nn.Module):\n",
        "  def __init__(self, vocab_size, config):\n",
        "    super().__init__()\n",
        "    self.token_embeddings = nn.Embedding(vocab_size, config.emb_dim)\n",
        "    self.positional_embeddings = nn.Embedding(config.emb_dim , config.emb_dim)\n",
        "    self.norm_1 = nn.LayerNorm(config.emb_dim)\n",
        "    self.drop_out = nn.Dropout(0.30)\n",
        "\n",
        "  def forward(self, x, seq_len):\n",
        "    token_em = self.token_embeddings(x)\n",
        "    position = torch.arange(seq_len, dtype = torch.long).unsqueeze(0)\n",
        "    positional_em = self.positional_embeddings(position)\n",
        "    emb = token_em + positional_em\n",
        "    emb = self.norm_1(emb)\n",
        "    emb = self.drop_out(emb)\n",
        "    return emb"
      ],
      "metadata": {
        "id": "J-1f4cPNMzX5"
      },
      "execution_count": 62,
      "outputs": []
    },
    {
      "cell_type": "markdown",
      "source": [
        "## Transformer Encoder"
      ],
      "metadata": {
        "id": "ISXBJ8ZHFhQc"
      }
    },
    {
      "cell_type": "code",
      "source": [
        "class Transformer_Encoder(nn.Module):\n",
        "  def __init__(self, vocab_size, config):\n",
        "    super().__init__()\n",
        "    self.embeddings = Embeddings(vocab_size, config)\n",
        "    self.layers = nn.ModuleList([Transformer_Encoder_Layer(config) for _ in range(config.no_of_encoders)])\n",
        "\n",
        "  def forward(self, x, seq_len):\n",
        "    x = self.embeddings(x, seq_len)\n",
        "    for layer in self.layers:\n",
        "      x = layer(x)\n",
        "    return x"
      ],
      "metadata": {
        "id": "TAaQwnw0SgdS"
      },
      "execution_count": 63,
      "outputs": []
    },
    {
      "cell_type": "code",
      "source": [
        "class Config:\n",
        "  def __init__(self):\n",
        "    self.emb_dim = 32\n",
        "    self.head_dim = 8\n",
        "    self.no_of_encoders = 2\n",
        "\n",
        "config = Config()"
      ],
      "metadata": {
        "id": "2XwrZJSCQoyA"
      },
      "execution_count": 64,
      "outputs": []
    },
    {
      "cell_type": "code",
      "source": [
        "corpus = [\n",
        "    'Time flies like an arrow',\n",
        "    'fruit flies like a banana',\n",
        "    'my name is faizan'\n",
        "]\n",
        "\n",
        "vocab = tokenizer(corpus)\n",
        "tokens = tokenize(vocab, corpus[2])\n",
        "\n",
        "encoder = Transformer_Encoder(len(vocab), config)\n",
        "encoder(torch.tensor([tokens]), len(tokens)).size()"
      ],
      "metadata": {
        "id": "gVi-oymshvBB",
        "colab": {
          "base_uri": "https://localhost:8080/"
        },
        "outputId": "4f672ed6-b9f3-4821-bdb9-061327849b6f"
      },
      "execution_count": 66,
      "outputs": [
        {
          "output_type": "execute_result",
          "data": {
            "text/plain": [
              "torch.Size([1, 4, 32])"
            ]
          },
          "metadata": {},
          "execution_count": 66
        }
      ]
    },
    {
      "cell_type": "code",
      "source": [],
      "metadata": {
        "id": "rz51QEEfRGvo"
      },
      "execution_count": 65,
      "outputs": []
    }
  ]
}